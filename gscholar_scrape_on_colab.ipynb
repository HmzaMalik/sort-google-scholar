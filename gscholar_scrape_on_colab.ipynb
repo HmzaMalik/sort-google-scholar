{
  "cells": [
    {
      "cell_type": "markdown",
      "metadata": {
        "id": "view-in-github",
        "colab_type": "text"
      },
      "source": [
        "<a href=\"https://colab.research.google.com/github/HmzaMalik/sort-google-scholar/blob/master/gscholar_scrape_on_colab.ipynb\" target=\"_parent\"><img src=\"https://colab.research.google.com/assets/colab-badge.svg\" alt=\"Open In Colab\"/></a>"
      ]
    },
    {
      "cell_type": "markdown",
      "source": [
        "## Scrape Data from Google Scholar to CSV file."
      ],
      "metadata": {
        "id": "mWUmsa_jSDy3"
      }
    },
    {
      "cell_type": "markdown",
      "metadata": {
        "id": "u6Sv2xEMKXOe"
      },
      "source": [
        "### Import Libraries and Define Functions"
      ]
    },
    {
      "cell_type": "code",
      "execution_count": 1,
      "metadata": {
        "id": "kARMz2mNKXOj"
      },
      "outputs": [],
      "source": [
        "import requests\n",
        "from bs4 import BeautifulSoup\n",
        "import pandas as pd\n",
        "import re\n",
        "import unicodedata\n",
        "import os\n",
        "\n",
        "# %%\n",
        "def scrape_data(keyword, number_of_results, start_year, end_year, review_articles=0):\n",
        "    data = []\n",
        "    headers=[\"Title\", \"Abstract\", \"Citations\", \"Link\", \"AJYP\"]\n",
        "    for page in range(0, number_of_results, 10):\n",
        "        if start_year == \"\" and end_year == \"\":\n",
        "            url = f\"https://scholar.google.com/scholar?start={page}&q={keyword}&hl=en&as_sdt=0,5&as_rr={review_articles}\"\n",
        "        else:\n",
        "            url = f\"https://scholar.google.com/scholar?start={page}&q={keyword}&hl=en&as_sdt=0,5&as_ylo={start_year}&as_yhi={end_year}&as_rr={review_articles}\"\n",
        "        response = requests.get(url)\n",
        "        soup = BeautifulSoup(response.text, \"html.parser\")\n",
        "        main_content = soup.find(id=\"gs_res_ccl\")\n",
        "        if main_content:\n",
        "            articles = main_content.find_all(\"div\", class_=\"gs_ri\")\n",
        "            for article in articles:\n",
        "                title = article.find(\"h3\", class_=\"gs_rt\").text\n",
        "                abstract = article.find(\"div\", class_=\"gs_rs\").text\n",
        "                ajyp = article.find(\"div\", class_=\"gs_a\").text\n",
        "                link_element = article.find(\"h3\", class_=\"gs_rt\").find(\"a\")\n",
        "                link = link_element[\"href\"] if link_element else \"\"\n",
        "                \n",
        "                # Get the citation count\n",
        "                citation_count = 0\n",
        "                citation_count_section = article.find(\"div\", class_=\"gs_fl\")\n",
        "                if citation_count_section:\n",
        "                    for citation_link in citation_count_section.find_all(\"a\"):\n",
        "                            if citation_link.text.startswith(\"Cited by\"):\n",
        "                                citation_count = citation_link.text.replace(\"Cited by\", \"\").strip()\n",
        "                                break\n",
        "                try:\n",
        "                    title = unicodedata.normalize('NFKD', title).encode('ascii', 'ignore').decode('utf-8')\n",
        "                    abstract = unicodedata.normalize('NFKD', abstract).encode('ascii', 'ignore').decode('utf-8')\n",
        "                    ajyp = unicodedata.normalize('NFKD', ajyp).encode('ascii', 'ignore').decode('utf-8')\n",
        "                    data.append([title, abstract, citation_count, link, ajyp])\n",
        "                except:\n",
        "                    data.append([title, abstract, citation_count, link, ajyp])\n",
        "    df = pd.DataFrame(data, columns=headers)\n",
        "    df.index.name = 'Rank'\n",
        "    df[\"Citations\"]= df[\"Citations\"].astype('Int64')       \n",
        "    return df\n",
        "\n",
        "def extract_info(df, column_name):\n",
        "    result=[]\n",
        "    year_regex = r\"\\b\\d{4}\\b\"\n",
        "    for text in df[column_name]:\n",
        "        parts = text.split(\"- \")\n",
        "        if len(parts) == 3:\n",
        "            author = parts[0].strip()\n",
        "            publisher = parts[2].strip()\n",
        "\n",
        "            try:\n",
        "                year = re.findall(year_regex, parts[1])[-1]\n",
        "                journal = parts[1][::-1].replace(year[::-1], \"\"[::-1],1)[::-1].strip().rstrip(\",\")\n",
        "            except IndexError:\n",
        "                year = \"\"\n",
        "                journal = parts[1]\n",
        "\n",
        "        if len(parts) == 2:\n",
        "            author = parts[0].strip()\n",
        "            try:\n",
        "                year = re.findall(year_regex, parts[1])[-1]\n",
        "                journal = parts[1][::-1].replace(year[::-1], \"\"[::-1],1)[::-1].strip().rstrip(\",\")\n",
        "                publisher = \"\"\n",
        "            except IndexError:\n",
        "                year = \"\"\n",
        "                journal = \"\"\n",
        "                publisher = parts[1]\n",
        "        result.append({'Author': author, 'Journal': journal, 'Publisher': publisher, 'Year': (year)})\n",
        "    df = pd.DataFrame(result)\n",
        "    df[\"Year\"] = pd.DatetimeIndex(df[\"Year\"]).year.astype('Int64')\n",
        "    return df\n",
        "\n",
        "\n",
        "if requests.get(\"https://scholar.google.com/scholar?hl=en&as_sdt=0%2C5&q=test\").status_code >= 400:\n",
        "    print(\"\\n\\n\\n\\033[1m\\033[31m!!! Warning !!! \\n\\n Current colab server is unable to connect with Google Scholar. Please disconnect and reconnect your Colab notebook, then run this cell again before proceeding further.\\033[0m\\n\\n\\n\")"
      ]
    },
    {
      "cell_type": "markdown",
      "metadata": {
        "id": "Byy2D-AeKXOr"
      },
      "source": [
        "### Search for Research Papers\n",
        "\n",
        "Enter the following information to search for research papers:\n",
        "\n",
        "* Keyword/Search term:\n",
        "* Number of results to return (default 50):\n",
        "* Start year (if any):\n",
        "* End year (if any):\n",
        "* Only return review articles (1=True):"
      ]
    },
    {
      "cell_type": "code",
      "execution_count": null,
      "metadata": {
        "id": "y4SdPHnqKXOt"
      },
      "outputs": [],
      "source": [
        "kw= input(\"Enter keyword: \")\n",
        "num_of_results = input(\"Enter number of results (or press enter for default value 50): \") or 50\n",
        "start_year = input(\"Enter start year: \")\n",
        "if start_year != \"\":\n",
        "    int(start_year)\n",
        "end_year = input(\"Enter end year: \")\n",
        "if end_year != \"\":\n",
        "    int(end_year)\n",
        "review_articles = int(input(\"Enter 0 for non-review articles only or 1 for review articles only (or press enter for default of 0): \") or 0)\n",
        "\n",
        "df = scrape_data(kw, number_of_results=int(num_of_results), start_year=start_year, end_year=end_year, review_articles=review_articles)\n",
        "\n",
        "try:\n",
        "    df = pd.concat([df,extract_info(df,\"AJYP\")],axis=1)\n",
        "except:\n",
        "    pass\n",
        "\n",
        "try:\n",
        "    df['Cit/Year']=(df['Citations']/(df['Year'].max() + 1 - df['Year'])).round(0).astype('Int64')\n",
        "except:\n",
        "    pass\n",
        "\n",
        "print(f'This dataframe includes total of {df.shape[0]} rows and {df.shape[1]} columns.\\n\\nFollowing table is a preview of top 4 rows of the dataframe:')\n",
        "df.head()"
      ]
    },
    {
      "cell_type": "markdown",
      "metadata": {
        "id": "dG5EwW6SKXOw"
      },
      "source": [
        "#### Run the following cell to get the Plot of \"Publications Per Year\"."
      ]
    },
    {
      "cell_type": "code",
      "execution_count": null,
      "metadata": {
        "id": "Z4Woxa9OKXO0"
      },
      "outputs": [],
      "source": [
        "try:\n",
        "    ax = df['Year'].value_counts().sort_index().plot(kind='bar', figsize=(10, 6))\n",
        "    ax.set_xlabel('Year')\n",
        "    ax.set_ylabel('Publications')\n",
        "    ax.set_title('Publications Per Year')\n",
        "    filename = 'publication_per_year.png'\n",
        "    # Check if the file already exists\n",
        "    while os.path.exists(filename):\n",
        "        user_input = input(f\"The file '{filename}' already exists. Enter 'y' to overwrite or enter a new filename: \")\n",
        "        if user_input.lower() == 'y':\n",
        "            break\n",
        "        else:\n",
        "            filename = user_input\n",
        "\n",
        "    # Save the plot as an image file\n",
        "    fig = ax.get_figure()\n",
        "    fig.savefig(filename)\n",
        "    try:\n",
        "        from glob import glob\n",
        "        from google.colab import files\n",
        "        fn= sorted(glob(\"*.png\"), key=os.path.getmtime, reverse=True)[0]\n",
        "        files.download(fn)\n",
        "    except:\n",
        "        pass\n",
        "except:\n",
        "    pass"
      ]
    },
    {
      "cell_type": "markdown",
      "metadata": {
        "id": "P5WEaI8WKXO2"
      },
      "source": [
        "### Sort Dataframe by Preferred Column and Save Results\n",
        "\n",
        "The following cell will sort the DataFrame by a preferred column and save the result to a CSV file. You can choose to sort by the following columns:\n",
        "\n",
        "- \"Title\"\n",
        "- \"Author\"\n",
        "- \"Year\"\n",
        "- \"Cit/Year\"\n",
        "- \"Journal\" or \"Publisher\"\n",
        "\n",
        "The default is sorted by the total number of citations (\"Citations\")."
      ]
    },
    {
      "cell_type": "code",
      "execution_count": 11,
      "metadata": {
        "id": "8P9M8REzKXO3",
        "outputId": "05ca8600-7bef-4c8c-afbb-3179bafd6379",
        "colab": {
          "base_uri": "https://localhost:8080/",
          "height": 52
        }
      },
      "outputs": [
        {
          "name": "stdout",
          "output_type": "stream",
          "text": [
            "Sort by preferred columns i.e.(Title, Author, Year, Cit/Year, Journal or Publisher)\n",
            " Dafault is by \"Citations\"Cit/Year\n"
          ]
        },
        {
          "output_type": "display_data",
          "data": {
            "text/plain": [
              "<IPython.core.display.Javascript object>"
            ],
            "application/javascript": [
              "\n",
              "    async function download(id, filename, size) {\n",
              "      if (!google.colab.kernel.accessAllowed) {\n",
              "        return;\n",
              "      }\n",
              "      const div = document.createElement('div');\n",
              "      const label = document.createElement('label');\n",
              "      label.textContent = `Downloading \"${filename}\": `;\n",
              "      div.appendChild(label);\n",
              "      const progress = document.createElement('progress');\n",
              "      progress.max = size;\n",
              "      div.appendChild(progress);\n",
              "      document.body.appendChild(div);\n",
              "\n",
              "      const buffers = [];\n",
              "      let downloaded = 0;\n",
              "\n",
              "      const channel = await google.colab.kernel.comms.open(id);\n",
              "      // Send a message to notify the kernel that we're ready.\n",
              "      channel.send({})\n",
              "\n",
              "      for await (const message of channel.messages) {\n",
              "        // Send a message to notify the kernel that we're ready.\n",
              "        channel.send({})\n",
              "        if (message.buffers) {\n",
              "          for (const buffer of message.buffers) {\n",
              "            buffers.push(buffer);\n",
              "            downloaded += buffer.byteLength;\n",
              "            progress.value = downloaded;\n",
              "          }\n",
              "        }\n",
              "      }\n",
              "      const blob = new Blob(buffers, {type: 'application/binary'});\n",
              "      const a = document.createElement('a');\n",
              "      a.href = window.URL.createObjectURL(blob);\n",
              "      a.download = filename;\n",
              "      div.appendChild(a);\n",
              "      a.click();\n",
              "      div.remove();\n",
              "    }\n",
              "  "
            ]
          },
          "metadata": {}
        },
        {
          "output_type": "display_data",
          "data": {
            "text/plain": [
              "<IPython.core.display.Javascript object>"
            ],
            "application/javascript": [
              "download(\"download_f440b092-d16f-4437-a05e-b7cd015be391\", \"test_gs.csv\", 23370)"
            ]
          },
          "metadata": {}
        }
      ],
      "source": [
        "try:\n",
        "    df = df.sort_values(by=input('Sort by preferred columns i.e.(Title, Author, Year, Cit/Year, Journal or Publisher)\\n Dafault is by \"Citations\"'), ascending=False)\n",
        "except Exception as e:\n",
        "    print('Column name to be sorted not found. Sorting by the number of citations...')\n",
        "    df = df.sort_values(by='Citations', ascending=False)\n",
        "\n",
        "columns=[\"Author\",\"Title\",\"Citations\",\"Year\", 'Cit/Year',\"Abstract\",\"Link\",\"Journal\",\"Publisher\",\"AJYP\"]\n",
        "\n",
        "try:\n",
        "    df[columns].to_csv(f\"{kw}_gs.csv\")\n",
        "except:\n",
        "    try:\n",
        "        df[columns].to_csv(\"file_gs.csv\")\n",
        "    except:\n",
        "        try:\n",
        "            df.to_csv(f\"{kw}_gs.csv\")\n",
        "        except:\n",
        "            df.to_csv(\"file_gs.csv\")\n",
        "\n",
        "try:\n",
        "    from glob import glob\n",
        "    from google.colab import files\n",
        "    fn= sorted(glob(\"*.csv\"), key=os.path.getmtime, reverse=True)[0]\n",
        "    files.download(fn)\n",
        "except:\n",
        "    pass\n"
      ]
    }
  ],
  "metadata": {
    "colab": {
      "provenance": [],
      "include_colab_link": true
    },
    "kernelspec": {
      "display_name": "data_sci_env",
      "language": "python",
      "name": "python3"
    },
    "language_info": {
      "codemirror_mode": {
        "name": "ipython",
        "version": 3
      },
      "file_extension": ".py",
      "mimetype": "text/x-python",
      "name": "python",
      "nbconvert_exporter": "python",
      "pygments_lexer": "ipython3",
      "version": "3.9.16"
    },
    "orig_nbformat": 4
  },
  "nbformat": 4,
  "nbformat_minor": 0
}