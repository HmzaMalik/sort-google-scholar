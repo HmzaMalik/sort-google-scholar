{
  "cells": [
    {
      "cell_type": "markdown",
      "metadata": {
        "id": "view-in-github",
        "colab_type": "text"
      },
      "source": [
        "<a href=\"https://colab.research.google.com/github/HmzaMalik/sort-google-scholar/blob/master/google_scrape.ipynb\" target=\"_parent\"><img src=\"https://colab.research.google.com/assets/colab-badge.svg\" alt=\"Open In Colab\"/></a>"
      ]
    },
    {
      "cell_type": "code",
      "execution_count": null,
      "metadata": {
        "id": "F2as1IiXcQC_"
      },
      "outputs": [],
      "source": [
        "import requests\n",
        "from bs4 import BeautifulSoup\n",
        "import pandas as pd\n",
        "import re"
      ]
    },
    {
      "cell_type": "code",
      "execution_count": null,
      "metadata": {
        "id": "-2vyBIRAcQDM"
      },
      "outputs": [],
      "source": [
        "def scrape_data(keyword, number_of_results, start_year, end_year, review_articles=0):\n",
        "    data = []\n",
        "    headers=[\"Title\", \"Abstract\", \"Citation Count\", \"Link\", \"AJYP\"]\n",
        "    for page in range(0, number_of_results, 10):\n",
        "        if start_year == \"\" and end_year == \"\":\n",
        "            url = f\"https://scholar.google.com/scholar?start={page}&q={keyword}&hl=en&as_sdt=0,5&as_rr={review_articles}\"\n",
        "        else:\n",
        "            url = f\"https://scholar.google.com/scholar?start={page}&q={keyword}&hl=en&as_sdt=0,5&as_ylo={start_year}&as_yhi={end_year}&as_rr={review_articles}\"\n",
        "        response = requests.get(url)\n",
        "        soup = BeautifulSoup(response.text, \"html.parser\")\n",
        "        main_content = soup.find(id=\"gs_res_ccl\")\n",
        "        if main_content:\n",
        "            articles = main_content.find_all(\"div\", class_=\"gs_ri\")\n",
        "            for article in articles:\n",
        "                title = article.find(\"h3\", class_=\"gs_rt\").text\n",
        "                abstract = article.find(\"div\", class_=\"gs_rs\").text\n",
        "                ajyp = article.find(\"div\", class_=\"gs_a\").text\n",
        "                link_element = article.find(\"h3\", class_=\"gs_rt\").find(\"a\")\n",
        "                link = link_element[\"href\"] if link_element else \"\"\n",
        "                \n",
        "                # Get the citation count\n",
        "                citation_count = 0\n",
        "                citation_count_section = article.find(\"div\", class_=\"gs_fl\")\n",
        "                if citation_count_section:\n",
        "                    for citation_link in citation_count_section.find_all(\"a\"):\n",
        "                            if citation_link.text.startswith(\"Cited by\"):\n",
        "                                citation_count = citation_link.text.replace(\"Cited by\", \"\").strip()\n",
        "                                break\n",
        "\n",
        "                data.append([title, abstract, citation_count, link, ajyp])\n",
        "                \n",
        "    return pd.DataFrame(data, columns=headers)\n"
      ]
    },
    {
      "cell_type": "code",
      "execution_count": null,
      "metadata": {
        "id": "iCMH4-0NcQDQ"
      },
      "outputs": [],
      "source": [
        "kw= input(\"Enter keyword: \")\n",
        "num_of_results = input(\"Enter number of results (or press enter for default value 50): \") or 50\n",
        "start_year = input(\"Enter start year: \")\n",
        "if start_year != \"\":\n",
        "    int(start_year)\n",
        "end_year = input(\"Enter end year: \")\n",
        "if end_year != \"\":\n",
        "    int(end_year)\n",
        "review_articles = int(input(\"Enter 0 for non-review articles only or 1 for review articles only (or press enter for default of 0): \") or 0)\n",
        "\n",
        "df = scrape_data(kw, number_of_results=int(num_of_results), start_year=start_year, end_year=end_year, review_articles=review_articles)\n"
      ]
    },
    {
      "cell_type": "code",
      "execution_count": null,
      "metadata": {
        "id": "matpN1-2cQDT"
      },
      "outputs": [],
      "source": [
        "def extract_info(df, column_name):\n",
        "    result=[]\n",
        "    year_regex = r\"\\b\\d{4}\\b\"\n",
        "    for text in df[column_name]:\n",
        "        parts = text.split(\"- \")\n",
        "        if len(parts) == 3:\n",
        "            author = parts[0].strip()\n",
        "            publisher = parts[2].strip()\n",
        "\n",
        "            try:\n",
        "                year = re.findall(year_regex, parts[1])[-1]\n",
        "                journal = parts[1].replace(year, \"\").strip().rstrip(\",\")\n",
        "            except IndexError:\n",
        "                year = \"\"\n",
        "                journal = parts[1]\n",
        "\n",
        "        if len(parts) == 2:\n",
        "            author = parts[0].strip()\n",
        "            try:\n",
        "                year = re.findall(year_regex, parts[1])[-1]\n",
        "                journal = parts[1].replace(year, \"\").strip().rstrip(\",\")\n",
        "                publisher = \"\"\n",
        "            except IndexError:\n",
        "                year = \"\"\n",
        "                journal = \"\"\n",
        "                publisher = parts[1]\n",
        "\n",
        "        result.append({'Author': author, 'Journal': journal, 'Publisher': publisher, 'Year': year})\n",
        "    return pd.DataFrame(result)"
      ]
    },
    {
      "cell_type": "code",
      "execution_count": null,
      "metadata": {
        "id": "ELEpS8NMcQDW"
      },
      "outputs": [],
      "source": [
        "df = pd.concat([df,extract_info(df,\"AJYP\")],axis=1)"
      ]
    },
    {
      "cell_type": "code",
      "execution_count": null,
      "metadata": {
        "id": "ebqAq5a8cQDY"
      },
      "outputs": [],
      "source": [
        "try:\n",
        "    df.to_csv(f\"{kw}.csv\")\n",
        "except:\n",
        "    df.to_csv(\"file.csv\")"
      ]
    }
  ],
  "metadata": {
    "language_info": {
      "codemirror_mode": {
        "name": "ipython",
        "version": 3
      },
      "file_extension": ".py",
      "mimetype": "text/x-python",
      "name": "python",
      "nbconvert_exporter": "python",
      "pygments_lexer": "ipython3",
      "version": 3
    },
    "orig_nbformat": 4,
    "colab": {
      "provenance": [],
      "include_colab_link": true
    }
  },
  "nbformat": 4,
  "nbformat_minor": 0
}
